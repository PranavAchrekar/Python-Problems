{
 "metadata": {
  "language_info": {
   "codemirror_mode": {
    "name": "ipython",
    "version": 3
   },
   "file_extension": ".py",
   "mimetype": "text/x-python",
   "name": "python",
   "nbconvert_exporter": "python",
   "pygments_lexer": "ipython3",
   "version": "3.8.10"
  },
  "orig_nbformat": 4,
  "kernelspec": {
   "name": "python3",
   "display_name": "Python 3.8.10 64-bit ('Flask': conda)"
  },
  "interpreter": {
   "hash": "83668d2a7435b20411b478abc20ae07b8ec15053ba4a10c3818fef61a4e3b48d"
  }
 },
 "nbformat": 4,
 "nbformat_minor": 2,
 "cells": [
  {
   "source": [
    "# 1.Palindrome\n",
    "\n",
    "A string is a palindrome when it is the same when read backwards.\n",
    "For example, the string \"bob\" is a palindrome. So is \"abba\". But the string \"abcd\" is not a palindrome, because \"abcd\" != \"dcba\".\n",
    "\n",
    "Write a function named palindrome that takes a single string as its parameter. Your function should return True if the string is a palindrome, and False otherwise."
   ],
   "cell_type": "markdown",
   "metadata": {}
  },
  {
   "cell_type": "code",
   "execution_count": 12,
   "metadata": {},
   "outputs": [
    {
     "output_type": "execute_result",
     "data": {
      "text/plain": [
       "True"
      ]
     },
     "metadata": {},
     "execution_count": 12
    }
   ],
   "source": [
    "def palindrome(s1):\n",
    "    return s1 == s1[::-1]\n",
    "palindrome('bob')"
   ]
  },
  {
   "source": [
    "# 2.Reverse String\n",
    "For example, the string 'alpha' reverse is 'ahpla'. Write a function named reverse that takes string as a parameter and returns the reverse of it "
   ],
   "cell_type": "markdown",
   "metadata": {}
  },
  {
   "cell_type": "code",
   "execution_count": 13,
   "metadata": {},
   "outputs": [
    {
     "output_type": "stream",
     "name": "stdout",
     "text": [
      "emosewA si nohtyP\n"
     ]
    }
   ],
   "source": [
    "def reverse(s1):\n",
    "    return s1[::-1]\n",
    "print(reverse('Python is Awesome'))"
   ]
  },
  {
   "source": [
    "# 3.Reverse \n",
    "Given string is: a mn xyz                                \n",
    "Get the o/p as : z yx nma"
   ],
   "cell_type": "markdown",
   "metadata": {}
  },
  {
   "cell_type": "code",
   "execution_count": 17,
   "metadata": {},
   "outputs": [
    {
     "output_type": "stream",
     "name": "stdout",
     "text": [
      "z yx nma\n"
     ]
    }
   ],
   "source": [
    "def reverse_1(s1):\n",
    "    x = s1.replace(\" \", \"\")\n",
    "    rev = x[::-1]\n",
    "    return ' '.join(rev[:2]) + ' '.join(rev[2:4]) + rev[4:]\n",
    "\n",
    "print(reverse_1('a mn xyz'))"
   ]
  },
  {
   "source": [
    "# 4.Capital indexes\n",
    "Write a function named capital_indexes. The function takes a single parameter, which is a string. Your function should return a list of all the indexes in the string that have capital letters.\n",
    "\n",
    "For example, calling capital_indexes(\"HeLlO\") should return the list [0, 2, 4]."
   ],
   "cell_type": "markdown",
   "metadata": {}
  },
  {
   "cell_type": "code",
   "execution_count": 1,
   "metadata": {},
   "outputs": [
    {
     "output_type": "execute_result",
     "data": {
      "text/plain": [
       "[0, 1, 2, 5, 8]"
      ]
     },
     "metadata": {},
     "execution_count": 1
    }
   ],
   "source": [
    "def capital_indexes(s1):\n",
    "    mylist = []\n",
    "    for index, char in enumerate(s1):\n",
    "        if char == char.upper():\n",
    "            mylist.append(index)\n",
    "    return mylist\n",
    "capital_indexes('CAPgeMinI')\n"
   ]
  },
  {
   "source": [
    "# 5.Middle letter\n",
    "Write a function named mid that takes a string as its parameter. Your function should extract and return the middle letter. If there is no middle letter, your function should return the empty string.\n",
    "\n",
    "For example, mid(\"abc\") should return \"b\" and mid(\"aaaa\") should return \"\"."
   ],
   "cell_type": "markdown",
   "metadata": {}
  },
  {
   "cell_type": "code",
   "execution_count": 2,
   "metadata": {},
   "outputs": [
    {
     "output_type": "stream",
     "name": "stdout",
     "text": [
      "b\n"
     ]
    }
   ],
   "source": [
    "def mid(s1):\n",
    "    s2 = None\n",
    "    for index, char in enumerate(s1):\n",
    "        if int(len(s1)/2) == index:\n",
    "            return char\n",
    "        elif len(s1)%2 == 0:\n",
    "            return  s2   \n",
    "print(mid('abc'))"
   ]
  },
  {
   "source": [
    "# 6.Online Status\n",
    "The aim of this challenge is, given a dictionary of people's online status, to count the number of people who are online.\n",
    "\n",
    "For example, consider the following dictionary:\n",
    "\n",
    "statuses = {\n",
    "    \"Alice\": \"online\",\n",
    "    \"Bob\": \"offline\",\n",
    "    \"Eve\": \"online\",\n",
    "}\n",
    "In this case, the number of people online is 2.\n",
    "\n",
    "Write a function named online_count that takes one parameter. The parameter is a dictionary that maps from strings of names to the string \"online\" or \"offline\", as seen above.\n",
    "\n",
    "Your function should return the number of people who are online."
   ],
   "cell_type": "markdown",
   "metadata": {}
  },
  {
   "cell_type": "code",
   "execution_count": 6,
   "metadata": {},
   "outputs": [
    {
     "output_type": "stream",
     "name": "stdout",
     "text": [
      "2\n"
     ]
    }
   ],
   "source": [
    "def online_count(person_dictionary):\n",
    "    count = 0\n",
    "    for status in person_dictionary.values():\n",
    "        if status == 'online':\n",
    "            count += 1\n",
    "    return count\n",
    "\n",
    "statuses = {\n",
    "    \"Alice\": \"online\",\n",
    "    \"Bob\": \"offline\",\n",
    "    \"Eve\": \"online\",\n",
    "}\n",
    "print(online_count(statuses))"
   ]
  },
  {
   "source": [
    "# 7.Randomness\n",
    "Define a function, random_number, that takes no parameters. The function must generate a random integer between 1 and 100, both inclusive, and return it.\n",
    "\n",
    "Calling the function multiple times should (usually) return different numbers."
   ],
   "cell_type": "markdown",
   "metadata": {}
  },
  {
   "cell_type": "code",
   "execution_count": 8,
   "metadata": {},
   "outputs": [
    {
     "output_type": "execute_result",
     "data": {
      "text/plain": [
       "97"
      ]
     },
     "metadata": {},
     "execution_count": 8
    }
   ],
   "source": [
    "import random\n",
    "\n",
    "def random_number():\n",
    "    return random.randint(1,100)\n",
    "random_number()"
   ]
  },
  {
   "source": [
    "# 8.Anagrams\n",
    "Two strings are anagrams if you can make one from the other by rearranging the letters.\n",
    "\n",
    "Write a function named is_anagram that takes two strings as its parameters. Your function should return True if the strings are anagrams, and False otherwise.\n",
    "\n",
    "For example, the call is_anagram(\"typhoon\", \"opython\") should return True while the call is_anagram(\"Alice\", \"Bob\") should return False."
   ],
   "cell_type": "markdown",
   "metadata": {}
  },
  {
   "cell_type": "code",
   "execution_count": 9,
   "metadata": {},
   "outputs": [
    {
     "output_type": "execute_result",
     "data": {
      "text/plain": [
       "True"
      ]
     },
     "metadata": {},
     "execution_count": 9
    }
   ],
   "source": [
    "def is_anagram(s1,s2):\n",
    "    x = sorted(s1)\n",
    "    y = sorted(s2)\n",
    "    return x == y\n",
    "is_anagram('typhoon', 'opython')\n",
    "\n",
    "\"\"\"\n",
    "return sorted(s1) == sorted(s2)\n",
    "\"\"\""
   ]
  },
  {
   "source": [
    "# 9.Armstrong Number\n",
    "An Armstrong number is an integer such that the sum of the digits raised to the power of the number of digits is equal to the number itself. \n",
    "                           \n",
    "For example number 153 is equal to $1^{3}$ + $5^{3}$ + $3^{3}$ = 153,                       \n",
    "Also number 1634 is equal to $1^{4}$ + $6^{4}$ + $3^{4}$ + $4^{4}$ = 1634 so these both are Armstrong numbers                     \n",
    "     \n",
    "Write a function named armstrong and determine whether the number entered is armstrong number or not."
   ],
   "cell_type": "markdown",
   "metadata": {}
  },
  {
   "cell_type": "code",
   "execution_count": 2,
   "metadata": {},
   "outputs": [
    {
     "output_type": "stream",
     "name": "stdout",
     "text": [
      "Armstrong Number\n"
     ]
    }
   ],
   "source": [
    "def armstrong(num):\n",
    "    total = 0\n",
    "    for i in str(num):\n",
    "        total += pow(int(i), len(str(num)))\n",
    "    if total == num:\n",
    "        return \"Armstrong Number\"\n",
    "    else:\n",
    "        return \"Not an Armstrong Number\"\n",
    "print(armstrong(1634))"
   ]
  },
  {
   "cell_type": "code",
   "execution_count": 3,
   "metadata": {},
   "outputs": [
    {
     "output_type": "stream",
     "name": "stdout",
     "text": [
      "152 is not an Armstrong number\n"
     ]
    }
   ],
   "source": [
    "# Another approach\n",
    "# https://stackoverflow.com/questions/35358846/armstrong-numbers-in-python\n",
    "\n",
    "n = input(\"Please enter a number: \")\n",
    "print(f\"{n} is {'' if int(n) == sum(int(i)**len(n) for i in n) else 'not '}an Armstrong number\")"
   ]
  },
  {
   "source": [
    "# 10.Hamming Distance\n",
    "\n",
    "You are given two strings of equal length, you have to find the Hamming Distance between these string. \n",
    "Where the Hamming distance between two strings of equal length is the number of positions at which the corresponding character is different.         \n",
    "\n",
    "For example, compare these 2 strings\n",
    "\n",
    "GANGTOK\n",
    "\n",
    "GAAGTAK\n",
    "\n",
    "They are different at 2 locations hence the hamming distance is 2\n",
    "\n",
    "Also, now compare this numbers\n",
    "\n",
    "100111\n",
    "\n",
    "100000\n",
    "\n",
    "They are different at  3 locations hence the hamming distanc is 3\n",
    "\n",
    " \n",
    "\n",
    "\n"
   ],
   "cell_type": "markdown",
   "metadata": {}
  },
  {
   "cell_type": "code",
   "execution_count": 5,
   "metadata": {},
   "outputs": [
    {
     "output_type": "stream",
     "name": "stdout",
     "text": [
      "2\n3\n"
     ]
    }
   ],
   "source": [
    "def HammingDistance(s1, s2):\n",
    "    #starting with distance 0\n",
    "    dist = 0\n",
    "\n",
    "    l = len(s1)\n",
    "    for i in range(l):\n",
    "        # if there is mismatch btw these 2 characters adding 1 to dist\n",
    "        if s1[i] != s2[i]:\n",
    "            dist = dist + 1\n",
    "    return dist\n",
    "\n",
    "print(HammingDistance('Gangtok', 'Gaagtak'))\n",
    "print(HammingDistance('10011', '10100'))"
   ]
  },
  {
   "source": [
    "# 11.Counting syllables\n",
    "Define a function named count that takes a single parameter. The parameter is a string. The string will contain a single word divided into syllables by hyphens, such as these:\n",
    "\n",
    "\"ho-tel\"\n",
    "\"cat\"\n",
    "\"met-a-phor\"\n",
    "\"ter-min-a-tor\"\n",
    "Your function should count the number of syllables and return it.\n",
    "\n",
    "For example, the call count(\"ho-tel\") should return 2."
   ],
   "cell_type": "markdown",
   "metadata": {}
  },
  {
   "cell_type": "code",
   "execution_count": 3,
   "metadata": {},
   "outputs": [
    {
     "output_type": "stream",
     "name": "stdout",
     "text": [
      "2\n1\n3\n4\n"
     ]
    }
   ],
   "source": [
    "def count(s1):\n",
    "    # for 1 hypen there are 2 syllables\n",
    "    # 2 hypen = 3 syllables and so on\n",
    "    x = s1.count('-')\n",
    "    x = x+1\n",
    "    return x\n",
    "print(count('ho-tel'))\n",
    "print(count('cat'))\n",
    "print(count('met-a-phor'))\n",
    "print(count('ter-min-a-tor'))"
   ]
  },
  {
   "cell_type": "code",
   "execution_count": null,
   "metadata": {},
   "outputs": [],
   "source": []
  }
 ]
}