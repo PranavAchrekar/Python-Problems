{
 "metadata": {
  "language_info": {
   "codemirror_mode": {
    "name": "ipython",
    "version": 3
   },
   "file_extension": ".py",
   "mimetype": "text/x-python",
   "name": "python",
   "nbconvert_exporter": "python",
   "pygments_lexer": "ipython3",
   "version": "3.8.10"
  },
  "orig_nbformat": 4,
  "kernelspec": {
   "name": "python3",
   "display_name": "Python 3.8.10 64-bit ('Flask': conda)"
  },
  "interpreter": {
   "hash": "83668d2a7435b20411b478abc20ae07b8ec15053ba4a10c3818fef61a4e3b48d"
  }
 },
 "nbformat": 4,
 "nbformat_minor": 2,
 "cells": [
  {
   "cell_type": "markdown",
   "source": [
    "# 1.Palindrome\r\n",
    "\r\n",
    "A string is a palindrome when it is the same when read backwards.\r\n",
    "For example, the string \"mom\" is a palindrome. So is \"abba\". But the string \"abcd\" is not a palindrome, because \"abcd\" != \"dcba\".\r\n",
    "Also for string \"nurses run\" is a palindrome if you consider it without spaces.\r\n",
    "\r\n",
    "Write a function named palindrome that takes a single string as its parameter. Your function should return True if the string is a palindrome, and False otherwise."
   ],
   "metadata": {}
  },
  {
   "cell_type": "code",
   "execution_count": 4,
   "source": [
    "def palindrome(s):\r\n",
    "    # Using split method \r\n",
    "    \r\n",
    "    wordlist = s.split()\r\n",
    "    s = ''.join(wordlist)\r\n",
    "    return s == s[::-1]\r\n",
    "    \r\n",
    "print(palindrome('mom'))\r\n",
    "print(palindrome('nurses run'))\r\n",
    "print(palindrome('abcd'))"
   ],
   "outputs": [
    {
     "output_type": "stream",
     "name": "stdout",
     "text": [
      "True\n",
      "True\n",
      "False\n"
     ]
    }
   ],
   "metadata": {}
  },
  {
   "cell_type": "code",
   "execution_count": 1,
   "source": [
    "def palindrome(s):\r\n",
    "    # Using replace method\r\n",
    "    \r\n",
    "    s = s.replace(' ', '')\r\n",
    "    return s == s[::-1]\r\n",
    "    \r\n",
    "print(palindrome('mom'))\r\n",
    "print(palindrome('nurses run'))\r\n",
    "print(palindrome('abcd'))"
   ],
   "outputs": [
    {
     "output_type": "stream",
     "name": "stdout",
     "text": [
      "True\n",
      "True\n",
      "False\n"
     ]
    }
   ],
   "metadata": {}
  },
  {
   "cell_type": "markdown",
   "source": [
    "# 2. Reverse String\r\n",
    "For example, the string 'alpha' reverse is 'ahpla'. Write a function named reverse that takes string as a parameter and returns the reverse of it "
   ],
   "metadata": {}
  },
  {
   "cell_type": "code",
   "execution_count": 55,
   "source": [
    "# Using slicing\r\n",
    "def reverse(s1):\r\n",
    "    return s1[::-1]\r\n",
    "print(reverse('Python is Awesome'))"
   ],
   "outputs": [
    {
     "output_type": "stream",
     "name": "stdout",
     "text": [
      "emosewA si nohtyP\n"
     ]
    }
   ],
   "metadata": {}
  },
  {
   "cell_type": "code",
   "execution_count": 34,
   "source": [
    "# Using for loop\r\n",
    "def reverse(s1):\r\n",
    "    for i in reversed(s1):\r\n",
    "        print(i, end='')\r\n",
    "reverse('alpha')"
   ],
   "outputs": [
    {
     "output_type": "stream",
     "name": "stdout",
     "text": [
      "ahpla"
     ]
    }
   ],
   "metadata": {}
  },
  {
   "cell_type": "code",
   "execution_count": 46,
   "source": [
    "# Using join method\r\n",
    "def reverse(s1):\r\n",
    "    x=''.join(reversed(s1))\r\n",
    "    print(x)\r\n",
    "    \r\n",
    "reverse('alpha')"
   ],
   "outputs": [
    {
     "output_type": "stream",
     "name": "stdout",
     "text": [
      "ahpla\n"
     ]
    }
   ],
   "metadata": {}
  },
  {
   "cell_type": "markdown",
   "source": [
    "# 3. Reverse \r\n",
    "Given string is: a mn xyz                                \r\n",
    "Get the o/p as : z yx nma"
   ],
   "metadata": {}
  },
  {
   "cell_type": "code",
   "execution_count": 17,
   "source": [
    "def reverse_1(s1):\r\n",
    "    x = s1.replace(\" \", \"\")\r\n",
    "    rev = x[::-1]\r\n",
    "    return ' '.join(rev[:2]) + ' '.join(rev[2:4]) + rev[4:]\r\n",
    "\r\n",
    "print(reverse_1('a mn xyz'))"
   ],
   "outputs": [
    {
     "output_type": "stream",
     "name": "stdout",
     "text": [
      "z yx nma\n"
     ]
    }
   ],
   "metadata": {}
  },
  {
   "cell_type": "markdown",
   "source": [
    "# 4. Reverse Words\r\n",
    "\r\n",
    "Write a function named reverse_words to Reverse the words in a given string.\r\n",
    "For example, on calling reverse_words('No Pain No Gain') should return 'Gain No Pain No'"
   ],
   "metadata": {}
  },
  {
   "cell_type": "code",
   "execution_count": 2,
   "source": [
    "def reverse_words(s):\r\n",
    "\r\n",
    "    # Splitting the strings into words\r\n",
    "    words = s.split()\r\n",
    "    # reverse the split string list and join using space\r\n",
    "    reverse = ' '.join(reversed(words))\r\n",
    "    return reverse\r\n",
    "\r\n",
    "print(reverse_words('No Pain No Gain')) "
   ],
   "outputs": [
    {
     "output_type": "stream",
     "name": "stdout",
     "text": [
      "Gain No Pain No\n"
     ]
    }
   ],
   "metadata": {}
  },
  {
   "cell_type": "markdown",
   "source": [
    "# 5. Capital indexes\r\n",
    "Write a function named capital_indexes. The function takes a single parameter, which is a string. Your function should return a list of all the indexes in the string that have capital letters.\r\n",
    "\r\n",
    "For example, calling capital_indexes(\"HeLlO\") should return the list [0, 2, 4]."
   ],
   "metadata": {}
  },
  {
   "cell_type": "code",
   "execution_count": 1,
   "source": [
    "def capital_indexes(s1):\r\n",
    "    mylist = []\r\n",
    "    for index, char in enumerate(s1):\r\n",
    "        if char == char.upper():\r\n",
    "            mylist.append(index)\r\n",
    "    return mylist\r\n",
    "capital_indexes('CAPgeMinI')\r\n"
   ],
   "outputs": [
    {
     "output_type": "execute_result",
     "data": {
      "text/plain": [
       "[0, 1, 2, 5, 8]"
      ]
     },
     "metadata": {},
     "execution_count": 1
    }
   ],
   "metadata": {}
  },
  {
   "cell_type": "markdown",
   "source": [
    "# 6. Middle letter\r\n",
    "Write a function named mid that takes a string as its parameter. Your function should extract and return the middle letter. If there is no middle letter, your function should return the empty string.\r\n",
    "\r\n",
    "For example, mid(\"abc\") should return \"b\" and mid(\"aaaa\") should return \"\"."
   ],
   "metadata": {}
  },
  {
   "cell_type": "code",
   "execution_count": 2,
   "source": [
    "def mid(s1):\r\n",
    "    s2 = None\r\n",
    "    for index, char in enumerate(s1):\r\n",
    "        if int(len(s1)/2) == index:\r\n",
    "            return char\r\n",
    "        elif len(s1)%2 == 0:\r\n",
    "            return  s2   \r\n",
    "print(mid('abc'))"
   ],
   "outputs": [
    {
     "output_type": "stream",
     "name": "stdout",
     "text": [
      "b\n"
     ]
    }
   ],
   "metadata": {}
  },
  {
   "cell_type": "markdown",
   "source": [
    "# 7. Online Status\r\n",
    "The aim of this challenge is, given a dictionary of people's online status, to count the number of people who are online.\r\n",
    "\r\n",
    "For example, consider the following dictionary:\r\n",
    "\r\n",
    "statuses = {\r\n",
    "    \"Clark\": \"online\",\r\n",
    "    \"Peter\": \"offline\",\r\n",
    "    \"Max\": \"online\",\r\n",
    "}\r\n",
    "In this case, the number of people online is 2.\r\n",
    "\r\n",
    "Write a function named online_count that takes one parameter. The parameter is a dictionary that maps from strings of names to the string \"online\" or \"offline\", as seen above.\r\n",
    "\r\n",
    "Your function should return the number of people who are online."
   ],
   "metadata": {}
  },
  {
   "cell_type": "code",
   "execution_count": 6,
   "source": [
    "def online_count(person_dictionary):\r\n",
    "    count = 0\r\n",
    "    for status in person_dictionary.values():\r\n",
    "        if status == 'online':\r\n",
    "            count += 1\r\n",
    "    return count\r\n",
    "\r\n",
    "statuses = {\r\n",
    "    \"Clark\": \"online\",\r\n",
    "    \"Peter\": \"offline\",\r\n",
    "    \"Max\": \"online\",\r\n",
    "}\r\n",
    "print(online_count(statuses))"
   ],
   "outputs": [
    {
     "output_type": "stream",
     "name": "stdout",
     "text": [
      "2\n"
     ]
    }
   ],
   "metadata": {}
  },
  {
   "cell_type": "markdown",
   "source": [
    "# 8. Randomness\r\n",
    "Define a function, random_number, that takes no parameters. The function must generate a random integer between 1 and 100, both inclusive, and return it.\r\n",
    "\r\n",
    "Calling the function multiple times should (usually) return different numbers."
   ],
   "metadata": {}
  },
  {
   "cell_type": "code",
   "execution_count": 8,
   "source": [
    "import random\r\n",
    "\r\n",
    "def random_number():\r\n",
    "    return random.randint(1,100)\r\n",
    "random_number()"
   ],
   "outputs": [
    {
     "output_type": "execute_result",
     "data": {
      "text/plain": [
       "97"
      ]
     },
     "metadata": {},
     "execution_count": 8
    }
   ],
   "metadata": {}
  },
  {
   "cell_type": "markdown",
   "source": [
    "# 9. Anagrams\r\n",
    "Two strings are anagrams if you can make one from the other by rearranging the letters.\r\n",
    "\r\n",
    "Write a function named is_anagram that takes two strings as its parameters. Your function should return True if the strings are anagrams, and False otherwise.\r\n",
    "\r\n",
    "For example, the call is_anagram(\"typhoon\", \"opython\") should return True while the call is_anagram(\"Alice\", \"Bob\") should return False."
   ],
   "metadata": {}
  },
  {
   "cell_type": "code",
   "execution_count": 5,
   "source": [
    "def is_anagram(s1,s2):\r\n",
    "    x = sorted(s1)\r\n",
    "    y = sorted(s2)\r\n",
    "    return x == y\r\n",
    "print(is_anagram('typhoon', 'opython'))\r\n",
    "print(is_anagram('Alice', 'Bob'))\r\n",
    "\r\n",
    "# return sorted(s1) == sorted(s2)\r\n"
   ],
   "outputs": [
    {
     "output_type": "stream",
     "name": "stdout",
     "text": [
      "True\n",
      "False\n"
     ]
    }
   ],
   "metadata": {}
  },
  {
   "cell_type": "markdown",
   "source": [
    "# 10. Armstrong Number\r\n",
    "An Armstrong number is an integer such that the sum of the digits raised to the power of the number of digits is equal to the number itself. \r\n",
    "                           \r\n",
    "For example number 153 is equal to $1^{3}$ + $5^{3}$ + $3^{3}$ = 153,                       \r\n",
    "Also number 1634 is equal to $1^{4}$ + $6^{4}$ + $3^{4}$ + $4^{4}$ = 1634 so these both are Armstrong numbers                     \r\n",
    "     \r\n",
    "Write a function named armstrong and determine whether the number entered is armstrong number or not."
   ],
   "metadata": {}
  },
  {
   "cell_type": "code",
   "execution_count": 2,
   "source": [
    "def armstrong(num):\r\n",
    "    total = 0\r\n",
    "    for i in str(num):\r\n",
    "        total += pow(int(i), len(str(num)))\r\n",
    "    if total == num:\r\n",
    "        return \"Armstrong Number\"\r\n",
    "    else:\r\n",
    "        return \"Not an Armstrong Number\"\r\n",
    "        \r\n",
    "print(armstrong(1634))"
   ],
   "outputs": [
    {
     "output_type": "stream",
     "name": "stdout",
     "text": [
      "Armstrong Number\n"
     ]
    }
   ],
   "metadata": {}
  },
  {
   "cell_type": "markdown",
   "source": [
    "# Armstrong Number in a given Interval"
   ],
   "metadata": {}
  },
  {
   "cell_type": "code",
   "execution_count": 7,
   "source": [
    "def armstrong(lower, upper):\r\n",
    "    for num in range(lower, upper):\r\n",
    "        total = 0\r\n",
    "        for i in str(num):\r\n",
    "            total += pow(int(i), len(str(num)))\r\n",
    "        if total == num:\r\n",
    "            print(num, end=' ')\r\n",
    "\r\n",
    "armstrong(1, 10000)"
   ],
   "outputs": [
    {
     "output_type": "stream",
     "name": "stdout",
     "text": [
      "1 2 3 4 5 6 7 8 9 153 370 371 407 1634 8208 9474 "
     ]
    }
   ],
   "metadata": {}
  },
  {
   "cell_type": "code",
   "execution_count": 7,
   "source": [
    "# Another approach\r\n",
    "# https://stackoverflow.com/questions/35358846/armstrong-numbers-in-python\r\n",
    "\r\n",
    "n = input(\"Please enter a number: \")\r\n",
    "print(f\"{n} is {'' if int(n) == sum(int(i)**len(n) for i in n) else 'not '}an Armstrong number\")"
   ],
   "outputs": [
    {
     "output_type": "stream",
     "name": "stdout",
     "text": [
      "1634 is an Armstrong number\n"
     ]
    }
   ],
   "metadata": {}
  },
  {
   "cell_type": "markdown",
   "source": [
    "# 11. Hamming Distance\r\n",
    "\r\n",
    "You are given two strings of equal length, you have to find the Hamming Distance between these string. \r\n",
    "Where the Hamming distance between two strings of equal length is the number of positions at which the corresponding character is different.         \r\n",
    "\r\n",
    "For example, compare these 2 strings\r\n",
    "\r\n",
    "GANGTOK\r\n",
    "\r\n",
    "GAAGTAK\r\n",
    "\r\n",
    "They are different at 2 locations hence the hamming distance is 2\r\n",
    "\r\n",
    "Also, now compare this numbers\r\n",
    "\r\n",
    "100111\r\n",
    "\r\n",
    "100000\r\n",
    "\r\n",
    "They are different at  3 locations hence the hamming distanc is 3\r\n"
   ],
   "metadata": {}
  },
  {
   "cell_type": "code",
   "execution_count": 5,
   "source": [
    "def HammingDistance(s1, s2):\r\n",
    "    dist = 0\r\n",
    "\r\n",
    "    l = len(s1)\r\n",
    "    for i in range(l):\r\n",
    "        # if there is mismatch btw these 2 characters adding 1 to dist\r\n",
    "        if s1[i] != s2[i]:\r\n",
    "            dist = dist + 1\r\n",
    "    return dist\r\n",
    "\r\n",
    "print(HammingDistance('Gangtok', 'Gaagtak'))\r\n",
    "print(HammingDistance('10011', '10100'))"
   ],
   "outputs": [
    {
     "output_type": "stream",
     "name": "stdout",
     "text": [
      "2\n",
      "3\n"
     ]
    }
   ],
   "metadata": {}
  },
  {
   "cell_type": "markdown",
   "source": [
    "# 12. Counting syllables\r\n",
    "Define a function named count that takes a single parameter. The parameter is a string. The string will contain a single word divided into syllables by hyphens, such as these:\r\n",
    "\r\n",
    "\"ho-tel\"                                                                                                                           \r\n",
    "\"cat\"                                                                                                 \r\n",
    "\"met-a-phor\"                                                    \r\n",
    "\"ter-min-a-tor\"\r\n",
    "\r\n",
    "Your function should count the number of syllables and return it.               \r\n",
    "For example, the call count(\"ho-tel\") should return 2."
   ],
   "metadata": {}
  },
  {
   "cell_type": "code",
   "execution_count": 3,
   "source": [
    "def count(s1):\r\n",
    "    # for 1 hypen there are 2 syllables\r\n",
    "    # 2 hypen = 3 syllables and so on\r\n",
    "    x = s1.count('-')\r\n",
    "    x = x+1\r\n",
    "    return x\r\n",
    "print(count('ho-tel'))\r\n",
    "print(count('cat'))\r\n",
    "print(count('met-a-phor'))\r\n",
    "print(count('ter-min-a-tor'))"
   ],
   "outputs": [
    {
     "output_type": "stream",
     "name": "stdout",
     "text": [
      "2\n",
      "1\n",
      "3\n",
      "4\n"
     ]
    }
   ],
   "metadata": {}
  },
  {
   "cell_type": "markdown",
   "source": [
    "# 13. Type check\r\n",
    "Write a function named only_ints that takes two parameters. Your function should return True if both parameters are integers, and False otherwise.\r\n",
    "\r\n",
    "For example, calling only_ints(1, 2) should return True, while calling only_ints(\"a\", 1) should return False."
   ],
   "metadata": {}
  },
  {
   "cell_type": "code",
   "execution_count": 1,
   "source": [
    "def only_ints(s1,s2):\r\n",
    "    return type(s1) == type(s2)\r\n",
    "print(only_ints(1,2))"
   ],
   "outputs": [
    {
     "output_type": "stream",
     "name": "stdout",
     "text": [
      "True\n"
     ]
    }
   ],
   "metadata": {}
  },
  {
   "cell_type": "markdown",
   "source": [
    "# 14. Flatten a list\r\n",
    "Write a function that takes a list of lists and flattens it into a one-dimensional list.\r\n",
    "\r\n",
    "Name your function flatten. It should take a single parameter and return a list.\r\n",
    "\r\n",
    "For example, calling:\r\n",
    "\r\n",
    "flatten ([ [1, 2], [3, 4] ])\r\n",
    "Should return the list: [1, 2, 3, 4]"
   ],
   "metadata": {}
  },
  {
   "cell_type": "code",
   "execution_count": 2,
   "source": [
    "def flatten(s1):\r\n",
    "    mylist = []\r\n",
    "    for i in s1:\r\n",
    "        mylist.extend(i)\r\n",
    "    return mylist\r\n",
    "print(flatten([[1,2],[3,4]]))"
   ],
   "outputs": [
    {
     "output_type": "stream",
     "name": "stdout",
     "text": [
      "[1, 2, 3, 4]\n"
     ]
    }
   ],
   "metadata": {}
  },
  {
   "cell_type": "markdown",
   "source": [
    "# 15.List Conversion\r\n",
    "Define a function named convert that takes a list of numbers as its only parameter and returns a list of each number converted to a string.\r\n",
    "\r\n",
    "For example, the call convert ([10, 20, 30]) should return [\"10\", \"20\", \"30\"].\r\n",
    "\r\n",
    "What makes this tricky is that your function body must only contain a single line of code."
   ],
   "metadata": {}
  },
  {
   "cell_type": "code",
   "execution_count": 5,
   "source": [
    "def convert(s):\r\n",
    "    # Using list comprehensions\r\n",
    "    return [ str(i) for i in s]\r\n",
    "print(convert([10,20,30]))"
   ],
   "outputs": [
    {
     "output_type": "stream",
     "name": "stdout",
     "text": [
      "['10', '20', '30']\n"
     ]
    }
   ],
   "metadata": {}
  },
  {
   "cell_type": "markdown",
   "source": [
    "# 16. Min-maxing\r\n",
    "Define a function named largest_difference that takes a list of numbers as its only parameter.\r\n",
    "\r\n",
    "Your function should compute and return the difference between the largest and smallest number in the list.\r\n",
    "\r\n",
    "For example, the call largest_difference ([1, 2, 3]) should return 2 because 3 - 1 is 2.\r\n",
    "\r\n",
    "You may assume that no numbers are smaller or larger than -100 and 100."
   ],
   "metadata": {}
  },
  {
   "cell_type": "code",
   "execution_count": 4,
   "source": [
    "def largest_difference(s):\r\n",
    "    return max(s) - min(s)\r\n",
    "print(largest_difference([1,2,3]))"
   ],
   "outputs": [
    {
     "output_type": "stream",
     "name": "stdout",
     "text": [
      "2\n"
     ]
    }
   ],
   "metadata": {}
  },
  {
   "cell_type": "markdown",
   "source": [
    "# 17. Up and down\r\n",
    "Define a function named up_down that takes a single number as its parameter. Your function return a tuple containing two numbers; the first should be one lower than the parameter, and the second should be one higher.\r\n",
    "\r\n",
    "For example, calling up_down(10) should return (9, 11)"
   ],
   "metadata": {}
  },
  {
   "cell_type": "code",
   "execution_count": 56,
   "source": [
    "def up_down(s):\r\n",
    "    return (s-1, s+1)\r\n",
    "print(up_down(10))"
   ],
   "outputs": [
    {
     "output_type": "stream",
     "name": "stdout",
     "text": [
      "(9, 11)\n"
     ]
    }
   ],
   "metadata": {}
  },
  {
   "cell_type": "markdown",
   "source": [
    "# 18. All equal\r\n",
    "Define a function named all_equal that takes a list and checks whether all elements in the list are the same.\r\n",
    "\r\n",
    "For example, calling all_equal([1, 1, 1]) should return True."
   ],
   "metadata": {}
  },
  {
   "cell_type": "code",
   "execution_count": 57,
   "source": [
    "def all_equal(s):\r\n",
    "    return s[::] == s[::-1]\r\n",
    "print(all_equal([1,1,1]))"
   ],
   "outputs": [
    {
     "output_type": "stream",
     "name": "stdout",
     "text": [
      "True\n"
     ]
    }
   ],
   "metadata": {}
  },
  {
   "cell_type": "markdown",
   "source": [
    "# 19. Array of Integers\r\n",
    "Parvati is given an array of integers. She is asked to return the sum of all the two-digit numbers in the array. Please help her to perform this task.                                                                    \r\n",
    "Write a function: def Solution(A) that, given an array A consisting of N integers, returns the sum of all two-digit numbers.                                                                        \r\n",
    "For example,                                                   \r\n",
    "Given A = [1, 1000, 80, -91], the function should return -11 (as the two-digit numbers are 80 and -91).                \r\n",
    "Given A = [47, 1900, 1, 90, 45], the function should return 182 (as the two-digit numbers are 47, 90 and 45).          \r\n",
    "Given A = [-13, 1900, 1, 100, 45], the function should return 32 (as the two-digit numbers are -13 and 45).            \r\n",
    "Assume that: • N is an integer within the range [0..100,000); • each element of array A is an integer within the range [-2,147,483,648..2,147,483,647]"
   ],
   "metadata": {}
  },
  {
   "cell_type": "code",
   "execution_count": 60,
   "source": [
    "def Solution(A):\r\n",
    "    sum = 0\r\n",
    "    for i in A:\r\n",
    "        if i < 0 or 10 <= i <= 99:\r\n",
    "            sum += i\r\n",
    "    return sum\r\n",
    "print(Solution([101,1000,80,-91]))\r\n",
    "print(Solution([47,1900,1,90,45]))\r\n",
    "print(Solution([-13,1900,1,100,45]))"
   ],
   "outputs": [
    {
     "output_type": "stream",
     "name": "stdout",
     "text": [
      "-11\n",
      "182\n",
      "32\n"
     ]
    }
   ],
   "metadata": {}
  },
  {
   "cell_type": "markdown",
   "source": [
    "# 20. Presence of Substring\r\n",
    "Write a function named presence to find Substring presence in a string and it should return True if present and if not then should return False.                                                       \r\n",
    "For example, your string ='Welcome to the world of Peace' & substring = 'world'                            \r\n",
    "Since substring is present in string it should return True.                                                                         \r\n",
    "Note: The find() method finds the first occurence of the given value.                                                  \r\n",
    "The find() method returns -1 if the value is not found. "
   ],
   "metadata": {}
  },
  {
   "cell_type": "code",
   "execution_count": 12,
   "source": [
    "def presence(s):\r\n",
    "    \r\n",
    "    substring = 'world'\r\n",
    "    return s.find(substring) > -1\r\n",
    "    \r\n",
    "s = 'Welcome to the world of Peace'\r\n",
    "print(presence(s))"
   ],
   "outputs": [
    {
     "output_type": "stream",
     "name": "stdout",
     "text": [
      "True\n"
     ]
    }
   ],
   "metadata": {}
  },
  {
   "cell_type": "markdown",
   "source": [
    "# 21. Two Sum\r\n",
    "Given an array of integers nums and an integer target, return indices of the two numbers such that they add up to target.\r\n",
    "\r\n",
    "You may assume that each input would have exactly one solution, and you may not use the same element twice.\r\n",
    "\r\n",
    "You can return the answer in any order. For example\r\n",
    "Input: nums = [2,7,11,15], target = 9\r\n",
    "Output: [0,1]\r\n",
    "Output: Because nums[0] + nums[1] == 9, we return [0, 1]."
   ],
   "metadata": {}
  },
  {
   "cell_type": "code",
   "execution_count": 3,
   "source": [
    "def sum(nums, target):\r\n",
    "    for i, num in enumerate(nums):\r\n",
    "        result = target - num\r\n",
    "        if result in nums and (result + result != target):\r\n",
    "            return (i, nums.index(result))\r\n",
    "\r\n",
    "print(sum([2,7,11,15], 9))\r\n",
    "print(sum([3,2,4], 6))\r\n",
    "print(sum([3,3], 6)) # Not getting right answer for this"
   ],
   "outputs": [
    {
     "output_type": "stream",
     "name": "stdout",
     "text": [
      "(0, 1)\n",
      "(1, 2)\n",
      "None\n"
     ]
    }
   ],
   "metadata": {}
  },
  {
   "cell_type": "markdown",
   "source": [
    "# 22. Symmetrical String\r\n",
    "A string is said to be symmetrical if both the halves of the string are the same.                                             \r\n",
    "Write a function named symmetrical and check whether the string 'khokho', 'zigsaw' and 'amaama' are symmetrical or not"
   ],
   "metadata": {}
  },
  {
   "cell_type": "code",
   "execution_count": 19,
   "source": [
    "def symmetrical(s):\r\n",
    "    if len(s)%2 == 0:\r\n",
    "        x = int(len(s)/2)\r\n",
    "        if x:\r\n",
    "            return s[:x] == s[x:]\r\n",
    "\r\n",
    "print(symmetrical('khokho'))\r\n",
    "print(symmetrical('zigsaw'))\r\n",
    "print(symmetrical('amaama'))"
   ],
   "outputs": [
    {
     "output_type": "stream",
     "name": "stdout",
     "text": [
      "True\n",
      "False\n",
      "True\n"
     ]
    }
   ],
   "metadata": {}
  },
  {
   "cell_type": "markdown",
   "source": [
    "# 23. Factorial Of a Number\r\n",
    "Factorial of a non-negative integer, is multiplication of all integers smaller than or equal to n. For example factorial of 6 is 6! = 720.                                            \r\n",
    "Write a function named factorial and write a program to return factorial of that number."
   ],
   "metadata": {}
  },
  {
   "cell_type": "code",
   "execution_count": 22,
   "source": [
    "def factorial(num):\r\n",
    "    if num == 0 or num == 1:\r\n",
    "        return 1\r\n",
    "    elif num < 0:\r\n",
    "        return None\r\n",
    "    else:\r\n",
    "        fact = 1\r\n",
    "        while(num > 1):\r\n",
    "            fact *= num\r\n",
    "            num -= 1\r\n",
    "        return fact\r\n",
    "        \r\n",
    "print(factorial(6))\r\n",
    "print(factorial(0))\r\n",
    "print(factorial(-1))"
   ],
   "outputs": [
    {
     "output_type": "stream",
     "name": "stdout",
     "text": [
      "720\n",
      "1\n",
      "None\n"
     ]
    }
   ],
   "metadata": {}
  },
  {
   "cell_type": "markdown",
   "source": [
    "# 24. Prime Number\r\n",
    "A prime number is a whole number greater than 1 and has only factors 1 and number itself.                                     \r\n",
    "Write a program to find whether a given number is prime or not."
   ],
   "metadata": {}
  },
  {
   "cell_type": "code",
   "execution_count": 25,
   "source": [
    "def prime(num):\r\n",
    "    if num > 1:\r\n",
    "        for i in range(2, num):\r\n",
    "            if num % i == 0:\r\n",
    "                return f'{num} is not Prime number'\r\n",
    "                break\r\n",
    "        else:\r\n",
    "            return f'{num} is Prime number'\r\n",
    "\r\n",
    "print(prime(2))\r\n",
    "print(prime(100))\r\n",
    "print(prime(53))"
   ],
   "outputs": [
    {
     "output_type": "stream",
     "name": "stdout",
     "text": [
      "2 is Prime number\n",
      "100 is not Prime number\n",
      "53 is Prime number\n"
     ]
    }
   ],
   "metadata": {}
  },
  {
   "cell_type": "markdown",
   "source": [
    "# Prime Number in a given Internal"
   ],
   "metadata": {}
  },
  {
   "cell_type": "code",
   "execution_count": 6,
   "source": [
    "def prime(lower, upper):\r\n",
    "    for num in range(lower, upper+1):\r\n",
    "        if num > 1:\r\n",
    "            for i in range(2, num):\r\n",
    "                if num % i == 0:\r\n",
    "                    break\r\n",
    "            else:\r\n",
    "                print(num, end=' ')\r\n",
    "prime(1,100)"
   ],
   "outputs": [
    {
     "output_type": "stream",
     "name": "stdout",
     "text": [
      "2 3 5 7 11 13 17 19 23 29 31 37 41 43 47 53 59 61 67 71 73 79 83 89 97 "
     ]
    }
   ],
   "metadata": {}
  },
  {
   "cell_type": "markdown",
   "source": [
    "# 25. Special Characters\r\n",
    "Write a python function special to check whether a given string contains any special characters or not. If the string contains special characters return \"String is not accepted\", and if strings does not contain any special characters return \"String is accepted.\""
   ],
   "metadata": {}
  },
  {
   "cell_type": "code",
   "execution_count": 17,
   "source": [
    "import re\r\n",
    "def special(s):\r\n",
    "    \r\n",
    "    # Make your own charecter set and pass\r\n",
    "    regex = re.compile('[@_!#$%^&*()<>?/\\|}{~:]')\r\n",
    "\r\n",
    "    # Pass the string in search method of regex object\r\n",
    "    if (regex.search(s) == None):\r\n",
    "        print('String is accepted')\r\n",
    "    else:\r\n",
    "        print('String is not accepted')\r\n",
    "\r\n",
    "special('It is r@aining heavily in the mountainous region!')\r\n",
    "special('Welcome')"
   ],
   "outputs": [
    {
     "output_type": "stream",
     "name": "stdout",
     "text": [
      "String is not accepted\n",
      "String is accepted\n"
     ]
    }
   ],
   "metadata": {}
  }
 ]
}